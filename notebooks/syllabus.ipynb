{
 "metadata": {
  "name": ""
 },
 "nbformat": 3,
 "nbformat_minor": 0,
 "worksheets": [
  {
   "cells": [
    {
     "cell_type": "markdown",
     "metadata": {},
     "source": [
      "[The Periodic Table](index.ipynb)\n",
      "===\n",
      "### Pacific High School, Fall 2013\n",
      "### 0.5 Credits - Physical Science\n",
      "\n",
      "\n",
      "1-Sentence: In this class we will learn about the elements that make up the periodic table, and how the periodic table is structured.\n",
      "\n",
      "Elevator Pitch: When you were young, you learned that the English alphabet has 26 letters in it. With those 26 letters, you are now able to write any word in the English language. The Universe has something similar; there are just over 100 different kinds of atoms in the entire Universe. With these 100+ atoms, you can make any physical object in the Universe including people, dogs, chairs, rocks, stars, galaxies, and everything else that exists. This class will help you understand these building blocks of the Universe.\n",
      "\n",
      "Investigation 0: What is Science?\n",
      "---\n",
      "\n",
      "Investigation 1: Atoms and Molecules\n",
      "---\n",
      "\n",
      "Investigation 2: The Periodic Table\n",
      "---"
     ]
    }
   ],
   "metadata": {}
  }
 ]
}