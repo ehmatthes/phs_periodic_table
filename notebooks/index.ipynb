{
 "metadata": {
  "name": ""
 },
 "nbformat": 3,
 "nbformat_minor": 0,
 "worksheets": [
  {
   "cells": [
    {
     "cell_type": "markdown",
     "metadata": {},
     "source": [
      "The Periodic Table\n",
      "===\n",
      "\n",
      "### An open curriculum for a physical science class\n",
      "### Pacific High School, Fall 2013\n",
      "### 0.5 Credits - Physical Science\n",
      "\n",
      "[Syllabus](syllabus.ipynb)"
     ]
    }
   ],
   "metadata": {}
  }
 ]
}