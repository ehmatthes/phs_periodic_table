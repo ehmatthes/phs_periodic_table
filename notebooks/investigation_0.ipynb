{
 "metadata": {
  "name": ""
 },
 "nbformat": 3,
 "nbformat_minor": 0,
 "worksheets": [
  {
   "cells": [
    {
     "cell_type": "markdown",
     "metadata": {},
     "source": [
      "Investigation 0: What is science?\n",
      "===\n"
     ]
    },
    {
     "cell_type": "markdown",
     "metadata": {},
     "source": [
      "[Index](index.ipynb) | \n",
      "[Syllabus](syllabus.ipynb)"
     ]
    },
    {
     "cell_type": "markdown",
     "metadata": {},
     "source": [
      "Guiding Questions:\n",
      "===\n",
      "- What is science?\n",
      "    - What kinds of questions can scientists try to answer?\n",
      "    - How do scientists answer questions?\n",
      "    - How do each of these terms relate to understanding what science is, and how scientists build our understanding of the world?\n",
      "        - observable\n",
      "        - testable\n",
      "        - hypothesis\n",
      "        - theory\n",
      "        - falsifiable\n",
      "        - evidence\n",
      "        - prediction\n",
      "        - reproducible\n",
      "        - objective\n",
      "        - neutral\n",
      "        - unbiased\n",
      "        - precise\n",
      "        - accurate\n",
      "    - What is wrong with the commonly heard-phrase \"just a theory\"?\n",
      "- What is not science?\n",
      "    - What kinds of questions can non-scientists try to answer, that scientists can't?"
     ]
    },
    {
     "cell_type": "markdown",
     "metadata": {},
     "source": [
      "Assignments\n",
      "===\n",
      "- Infinite Halving\n",
      "    - Do the activity with integrity\n",
      "    - Complete an informal writeup (on the handout)\n",
      "    - Complete a semi-formal writeup\n",
      "        - Semi-formal means strong enough English to be clear and correct scientificialy, but you don't need to have it polished for presentation purposes.\n",
      "- What is science? What is not science?"
     ]
    },
    {
     "cell_type": "markdown",
     "metadata": {},
     "source": [
      "Resources:\n",
      "===\n",
      "- [What is science?](http://undsci.berkeley.edu/article/whatisscience_01)\n",
      "    - UC Berkeley resource, pretty accessible"
     ]
    }
   ],
   "metadata": {}
  }
 ]
}