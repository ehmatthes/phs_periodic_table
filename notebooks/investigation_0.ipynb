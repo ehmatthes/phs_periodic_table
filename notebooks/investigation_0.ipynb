{
 "metadata": {
  "name": ""
 },
 "nbformat": 3,
 "nbformat_minor": 0,
 "worksheets": [
  {
   "cells": [
    {
     "cell_type": "markdown",
     "metadata": {},
     "source": [
      "Investigation 0: What is science?\n",
      "===\n"
     ]
    },
    {
     "cell_type": "markdown",
     "metadata": {},
     "source": [
      "Guiding Questions:\n",
      "===\n",
      "- What is science?\n",
      "    - What kinds of questions can scientists try to answer?\n",
      "    - How do scientists answer questions?\n",
      "    - How do these terms relate to understanding what science is:\n",
      "        - observable\n",
      "        - testable\n",
      "        - hypothesis\n",
      "        - theory\n",
      "        - falsifiable\n",
      "        - evidence\n",
      "        - prediction\n",
      "    - What is wrong with the commonly heard-phrase \"just a theory\"?\n",
      "- What is not science?\n",
      "    - What kinds of questions can non-scientists try to answer, that scientists can't?"
     ]
    },
    {
     "cell_type": "markdown",
     "metadata": {},
     "source": [
      "Resources:\n",
      "===\n"
     ]
    }
   ],
   "metadata": {}
  }
 ]
}