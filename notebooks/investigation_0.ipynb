{
 "metadata": {
  "name": ""
 },
 "nbformat": 3,
 "nbformat_minor": 0,
 "worksheets": [
  {
   "cells": [
    {
     "cell_type": "markdown",
     "metadata": {},
     "source": [
      "Investigation 0: What is science?\n",
      "===\n"
     ]
    },
    {
     "cell_type": "markdown",
     "metadata": {},
     "source": [
      "[Index](index.ipynb) | \n",
      "[Investigation 0](investigation_0.ipynb) | \n",
      "[Investigation 1](investigation_1.ipynb) | \n",
      "[Syllabus](syllabus.ipynb)"
     ]
    },
    {
     "cell_type": "markdown",
     "metadata": {},
     "source": [
      "Guiding Questions:\n",
      "===\n",
      "- What is science?\n",
      "    - What kinds of questions can scientists try to answer?\n",
      "    - How do scientists answer questions?\n",
      "    - How do each of these terms relate to understanding what science is, and how scientists build our understanding of the world?\n",
      "        - observable\n",
      "        - testable\n",
      "        - hypothesis\n",
      "        - theory\n",
      "        - falsifiable\n",
      "        - evidence\n",
      "        - prediction\n",
      "        - reproducible\n",
      "        - objective\n",
      "        - neutral\n",
      "        - unbiased\n",
      "        - precise\n",
      "        - accurate\n",
      "        - experiment\n",
      "        - question\n",
      "        - control\n",
      "        - variable\n",
      "        - conclusion\n",
      "        - method\n",
      "        - research\n",
      "        - analysis\n",
      "    - What is wrong with the commonly heard-phrase \"just a theory\"?\n",
      "- What is not science?\n",
      "    - What kinds of questions can non-scientists try to answer, that scientists can't?"
     ]
    },
    {
     "cell_type": "markdown",
     "metadata": {},
     "source": [
      "Assignments\n",
      "===\n",
      "- Infinite Halving\n",
      "    - Do the activity with integrity\n",
      "    - Complete an informal writeup (on the handout)\n",
      "    - Complete a semi-formal writeup\n",
      "        - Semi-formal means strong enough English to be clear and correct scientificialy, but you don't need to have it polished for presentation purposes.\n",
      "- What is science? What is not science?"
     ]
    },
    {
     "cell_type": "markdown",
     "metadata": {},
     "source": [
      "Resources:\n",
      "===\n",
      "- [What is science?](http://undsci.berkeley.edu/article/whatisscience_01)\n",
      "    - UC Berkeley resource, pretty accessible\n",
      "- pseudoscience:\n",
      "    - Masaru Emoto's \"beautiful\" water crystals:\n",
      "        - [his own page](http://www.masaru-emoto.net/english/water-crystal.html)\n",
      "        - someone's [non-critical take on his work](http://www.spiritual-knowledge.net/articles/human-word.php)\n",
      "        - [critique from caltech](http://www.its.caltech.edu/~atomic/snowcrystals/myths/myths.htm)\n",
      "        - [another critique](http://disinfo.com/2013/08/happy-water-crystals-debunked-as-pseudoscience/)\n",
      "            - [full article](http://is-masaru-emoto-for-real.com/)\n",
      "    - DNA tests showing [many herbal supplements are not what they claim to be](http://www.nytimes.com/2013/11/05/science/herbal-supplements-are-often-not-what-they-seem.html)"
     ]
    },
    {
     "cell_type": "markdown",
     "metadata": {},
     "source": [
      "[top](#)"
     ]
    },
    {
     "cell_type": "markdown",
     "metadata": {},
     "source": [
      "[Index](index.ipynb) | \n",
      "[Investigation 0](investigation_0.ipynb) | \n",
      "[Investigation 1](investigation_1.ipynb) | \n",
      "[Syllabus](syllabus.ipynb)"
     ]
    }
   ],
   "metadata": {}
  }
 ]
}