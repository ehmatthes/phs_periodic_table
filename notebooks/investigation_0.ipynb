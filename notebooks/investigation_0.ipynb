{
 "metadata": {
  "name": ""
 },
 "nbformat": 3,
 "nbformat_minor": 0,
 "worksheets": [
  {
   "cells": [
    {
     "cell_type": "markdown",
     "metadata": {},
     "source": [
      "Investigation 0: What is science?\n",
      "===\n"
     ]
    },
    {
     "cell_type": "markdown",
     "metadata": {},
     "source": [
      "[Index](http://nbviewer.ipython.org/urls/raw.github.com/ehmatthes/phs_periodic_table/master/notebooks/index.ipynb) | \n",
      "[Syllabus](http://nbviewer.ipython.org/urls/raw.github.com/ehmatthes/phs_periodic_table/master/notebooks/syllabus.ipynb)"
     ]
    },
    {
     "cell_type": "markdown",
     "metadata": {},
     "source": [
      "Guiding Questions:\n",
      "===\n",
      "- What is science?\n",
      "    - What kinds of questions can scientists try to answer?\n",
      "    - How do scientists answer questions?\n",
      "    - How do these terms relate to understanding what science is:\n",
      "        - observable\n",
      "        - testable\n",
      "        - hypothesis\n",
      "        - theory\n",
      "        - falsifiable\n",
      "        - evidence\n",
      "        - prediction\n",
      "    - What is wrong with the commonly heard-phrase \"just a theory\"?\n",
      "- What is not science?\n",
      "    - What kinds of questions can non-scientists try to answer, that scientists can't?"
     ]
    },
    {
     "cell_type": "markdown",
     "metadata": {},
     "source": [
      "Resources:\n",
      "===\n",
      "- [What is science?](http://undsci.berkeley.edu/article/whatisscience_01)\n",
      "    - UC Berkeley resource, pretty accessible"
     ]
    }
   ],
   "metadata": {}
  }
 ]
}