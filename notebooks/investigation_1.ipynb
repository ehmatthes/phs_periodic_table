{
 "metadata": {
  "name": ""
 },
 "nbformat": 3,
 "nbformat_minor": 0,
 "worksheets": [
  {
   "cells": [
    {
     "cell_type": "markdown",
     "metadata": {},
     "source": [
      "Investigation 1: The Hydrogen Atom\n",
      "===\n"
     ]
    },
    {
     "cell_type": "markdown",
     "metadata": {},
     "source": [
      "[Index](index.ipynb) | \n",
      "[Investigation 0](investigation_0.ipynb) | \n",
      "[Investigation 1](investigation_1.ipynb) | \n",
      "[Syllabus](syllabus.ipynb)"
     ]
    },
    {
     "cell_type": "markdown",
     "metadata": {},
     "source": [
      "Guiding Questions:\n",
      "===\n",
      "- What is a hydrogen atom?\n",
      "- How big (small) is a hydrogen atom?"
     ]
    },
    {
     "cell_type": "markdown",
     "metadata": {},
     "source": [
      "Resources:\n",
      "===\n",
      "- Animated slides of a simple model of the hydrogen atom\n",
      "    - [http://science.sbcc.edu/physics/solar/sciencesegment/bohratom.swf](http://science.sbcc.edu/physics/solar/sciencesegment/bohratom.swf)\n",
      "- Bohr's model\n",
      "    - [http://www.universetoday.com/46886/bohrs-atomic-model/](http://www.universetoday.com/46886/bohrs-atomic-model/)"
     ]
    },
    {
     "cell_type": "markdown",
     "metadata": {},
     "source": [
      "[top](#)"
     ]
    },
    {
     "cell_type": "markdown",
     "metadata": {},
     "source": [
      "    [Index](index.ipynb) | \n",
      "    [Investigation 0](investigation_0.ipynb) | \n",
      "    [Investigation 1](investigation_1.ipynb) | \n",
      "    [Syllabus](syllabus.ipynb)"
     ]
    }
   ],
   "metadata": {}
  }
 ]
}