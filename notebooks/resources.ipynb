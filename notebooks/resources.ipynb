{
 "metadata": {
  "name": ""
 },
 "nbformat": 3,
 "nbformat_minor": 0,
 "worksheets": [
  {
   "cells": [
    {
     "cell_type": "markdown",
     "metadata": {},
     "source": [
      "Overall Resources\n",
      "===\n",
      "- [Basic Periodic Table](http://www.ptable.com/Images/periodic%20table.png)"
     ]
    },
    {
     "cell_type": "markdown",
     "metadata": {},
     "source": [
      "[Index](index.ipynb) | \n",
      "[Syllabus](syllabus.ipynb)"
     ]
    }
   ],
   "metadata": {}
  }
 ]
}