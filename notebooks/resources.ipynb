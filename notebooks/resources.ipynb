{
 "metadata": {
  "name": ""
 },
 "nbformat": 3,
 "nbformat_minor": 0,
 "worksheets": [
  {
   "cells": [
    {
     "cell_type": "markdown",
     "metadata": {},
     "source": [
      "Overall Resources\n",
      "===\n",
      "- Periodic Tables\n",
      "    - [Basic Periodic Table](http://www.ptable.com/Images/periodic%20table.png)\n",
      "    - [Royal Society of Chemistry](http://www.rsc.org/periodic-table)\n",
      "    - [Dynamic Periodic Table](http://ptable.com)\n",
      "        - Shows many different properties of each element. Has a slider that lets you change the temperature and see what effect that has on each element. Includes advertisements.\n",
      "- Other\n",
      "    - [sourcebook for teaching science](http://www.csun.edu/science/chemistry/periodic_table/)\n",
      "    "
     ]
    },
    {
     "cell_type": "markdown",
     "metadata": {},
     "source": [
      "[Index](index.ipynb) | \n",
      "[Syllabus](syllabus.ipynb)"
     ]
    }
   ],
   "metadata": {}
  }
 ]
}