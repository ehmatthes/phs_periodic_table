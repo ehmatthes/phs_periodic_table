{
 "metadata": {
  "name": ""
 },
 "nbformat": 3,
 "nbformat_minor": 0,
 "worksheets": [
  {
   "cells": [
    {
     "cell_type": "markdown",
     "metadata": {},
     "source": [
      "[The Periodic Table](index.html)\n",
      "===\n",
      "### Pacific High School, Fall 2013\n",
      "### 0.5 Credits - Physical Science\n",
      "\n",
      "\n",
      "1-Sentence: \n",
      "\n",
      "Elevator Pitch: \n",
      "\n",
      "Investigation 0: What is Science?\n",
      "---\n",
      "\n",
      "Investigation 1: Atoms and Molecules\n",
      "---\n",
      "\n",
      "Investigation 2: The Periodic Table\n",
      "---"
     ]
    }
   ],
   "metadata": {}
  }
 ]
}